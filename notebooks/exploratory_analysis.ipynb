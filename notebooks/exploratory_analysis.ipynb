{
 "cells": [
  {
   "cell_type": "markdown",
   "metadata": {},
   "source": [
    "# Exploratory Analysis of Legal Documents\n",
    "\n",
    "This notebook is used for performing exploratory analysis on legal documents before summarization."
   ]
  },
  {
   "cell_type": "code",
   "execution_count": null,
   "metadata": {},
   "outputs": [],
   "source": [
    "# Import necessary libraries\n",
    "import os\n",
    "import json\n",
    "import pandas as pd"
   ]
  },
  {
   "cell_type": "markdown",
   "metadata": {},
   "source": [
    "### Load and inspect raw legal document"
   ]
  },
  {
   "cell_type": "code",
   "execution_count": null,
   "metadata": {},
   "outputs": [],
   "source": [
    "# Load a sample raw legal document\n",
    "raw_data_path = '../data/raw/'\n",
    "sample_file = os.path.join(raw_data_path, 'unique_legal_document_1.txt')\n",
    "\n",
    "with open(sample_file, 'r') as file:\n",
    "    raw_text = file.read()\n",
    "\n",
    "print('Raw Document Text:', raw_text[:500])  # Show first 500 characters"
   ]
  },
  {
   "cell_type": "markdown",
   "metadata": {},
   "source": [
    "### Preprocess the document"
   ]
  },
  {
   "cell_type": "code",
   "execution_count": null,
   "metadata": {},
   "outputs": [],
   "source": [
    "# Use DataPreprocessor class to preprocess document\n",
    "from src.data_preprocessing import DataPreprocessor\n",
    "\n",
    "preprocessor = DataPreprocessor()\n",
    "cleaned_text = preprocessor.clean_text(raw_text)\n",
    "tokens = preprocessor.tokenize_text(cleaned_text)\n",
    "sections = preprocessor.extract_sections(cleaned_text)\n",
    "\n",
    "print('Cleaned Text:', cleaned_text[:500])\n",
    "print('Tokens:', tokens[:20])  # Show first 20 tokens\n",
    "print('Sections:', sections)"
   ]
  },
  {
   "cell_type": "markdown",
   "metadata": {},
   "source": [
    "### Summarize the document"
   ]
  },
  {
   "cell_type": "code",
   "execution_count": null,
   "metadata": {},
   "outputs": [],
   "source": [
    "# Use LegalSummarizer class to summarize the document\n",
    "from src.summarization import LegalSummarizer\n",
    "\n",
    "summarizer = LegalSummarizer()\n",
    "summary = summarizer.summarize(cleaned_text)\n",
    "\n",
    "print('Summary:', summary)"
   ]
  }
 ],
 "metadata": {
  "kernelspec": {
   "display_name": "Python 3",
   "language": "python",
   "name": "python3"
  },
  "language_info": {
   "name": "python",
   "version": "3.8"
  }
 },
 "nbformat": 4,
 "nbformat_minor": 5
}
